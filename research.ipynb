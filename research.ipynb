{
 "cells": [
  {
   "cell_type": "code",
   "execution_count": 5,
   "metadata": {},
   "outputs": [],
   "source": [
    "import subprocess\n",
    "\n",
    "def convert_to_exe(batch_file):\n",
    "    subprocess.run(['pyinstaller', '--onefile', '--noconsole', batch_file])\n",
    "\n",
    "if __name__ == \"__main__\":\n",
    "    batch_file = 'test.py'  # Replace with the path to your batch file\n",
    "    convert_to_exe(batch_file)"
   ]
  },
  {
   "cell_type": "code",
   "execution_count": 4,
   "metadata": {},
   "outputs": [],
   "source": [
    "import webbrowser\n",
    "\n",
    "def play_youtube_video(url):\n",
    "    url = url\n",
    "    webbrowser.open(url)\n",
    "\n",
    "if __name__ == \"__main__\":\n",
    "    url = 'https://www.youtube.com/watch?v=4c2KwsLeRkc'\n",
    "    play_youtube_video(url)"
   ]
  }
 ],
 "metadata": {
  "kernelspec": {
   "display_name": "Python 3",
   "language": "python",
   "name": "python3"
  },
  "language_info": {
   "codemirror_mode": {
    "name": "ipython",
    "version": 3
   },
   "file_extension": ".py",
   "mimetype": "text/x-python",
   "name": "python",
   "nbconvert_exporter": "python",
   "pygments_lexer": "ipython3",
   "version": "3.9.2rc1"
  }
 },
 "nbformat": 4,
 "nbformat_minor": 2
}
