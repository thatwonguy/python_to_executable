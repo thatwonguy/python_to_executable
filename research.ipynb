{
 "cells": [
  {
   "cell_type": "markdown",
   "metadata": {},
   "source": [
    "The below code is a unit test of the python code needed to open your webbrowser and run a youtube video. Each time you click from here it will open up a browser or tab and play the video if the video is still available. If not replace with any youtube video you like. Once we know it works we take this script and place it on its own in a python script we call `test.py`"
   ]
  },
  {
   "cell_type": "code",
   "execution_count": 2,
   "metadata": {},
   "outputs": [],
   "source": [
    "import webbrowser\n",
    "\n",
    "def play_youtube_video(url):\n",
    "    url = url\n",
    "    webbrowser.open(url)\n",
    "\n",
    "if __name__ == \"__main__\":\n",
    "    url = 'https://www.youtube.com/watch?v=4c2KwsLeRkc'\n",
    "    play_youtube_video(url)"
   ]
  },
  {
   "cell_type": "markdown",
   "metadata": {},
   "source": [
    "Now that we know the above code works, we move onto the below code, which uses the subprocess python library to run cmd commands. It will take our `test.py` python script and convert it to an executable file."
   ]
  },
  {
   "cell_type": "code",
   "execution_count": 1,
   "metadata": {},
   "outputs": [],
   "source": [
    "import subprocess\n",
    "\n",
    "def convert_to_exe(batch_file):\n",
    "    subprocess.run(['pyinstaller', '--onefile', '--noconsole', batch_file])\n",
    "\n",
    "if __name__ == \"__main__\":\n",
    "    batch_file = 'test.py'  # Replace with the path to your batch file\n",
    "    convert_to_exe(batch_file)"
   ]
  }
 ],
 "metadata": {
  "kernelspec": {
   "display_name": "Python 3",
   "language": "python",
   "name": "python3"
  },
  "language_info": {
   "codemirror_mode": {
    "name": "ipython",
    "version": 3
   },
   "file_extension": ".py",
   "mimetype": "text/x-python",
   "name": "python",
   "nbconvert_exporter": "python",
   "pygments_lexer": "ipython3",
   "version": "3.9.2rc1"
  }
 },
 "nbformat": 4,
 "nbformat_minor": 2
}
